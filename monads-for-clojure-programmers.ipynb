{
 "cells": [
  {
   "cell_type": "markdown",
   "metadata": {},
   "source": [
    "# Monads for Clojure Programmers\n",
    "\n",
    "* Webpage: [You could have invented monads!](http://blog.sigfpe.com/2006/08/you-could-have-invented-monads-and.html?utm_source=pocket_mylist)\n",
    "* Video: [Monads and Gonads](https://www.youtube.com/watch?v=b0EF0VTs9Dc)\n",
    "* Video: [Railway oriented programming](https://vimeo.com/113707214) by Scott Wlaschin\n",
    "    * Website: Scott Wlashin [F# For Fun and Profit](https://fsharpforfunandprofit.com/)\n",
    "\n",
    "[Monads for Clojure Programmers](https://cuddly-octo-palm-tree.com/posts/2021-10-03-monads-clojure/)\n",
    "* [What is a monad?](https://cuddly-octo-palm-tree.com/posts/2021-04-11-monads-0/)\n"
   ]
  },
  {
   "cell_type": "markdown",
   "metadata": {},
   "source": [
    "## What makes a monad?"
   ]
  },
  {
   "cell_type": "markdown",
   "metadata": {},
   "source": [
    "### Cheap version of core.match"
   ]
  },
  {
   "cell_type": "code",
   "execution_count": 2,
   "metadata": {},
   "outputs": [
    {
     "data": {
      "text/plain": [
       "#'beaker_clojure_shell_340ae6bd-629c-4bb5-aa08-2f136ddd00f0/match"
      ]
     },
     "execution_count": 2,
     "metadata": {},
     "output_type": "execute_result"
    }
   ],
   "source": [
    "(defmacro match\n",
    "    [expr & cases]\n",
    "    (let [e (gensym)]\n",
    "        `(let [~e ~expr]\n",
    "            (case (first ~e)\n",
    "                ~@(->> (partition 2 cases)\n",
    "                   (mapcat (fn [[pat body]]\n",
    "                               [(first pat)\n",
    "                                `(let [~(vec (cons '_ (rest pat))) ~e]\n",
    "                                     ~body)])))))))"
   ]
  },
  {
   "cell_type": "code",
   "execution_count": 4,
   "metadata": {},
   "outputs": [
    {
     "ename": "java.util.ArrayList cannot be cast to java.util.Map",
     "evalue": "java.util.ArrayList cannot be cast to java.util.Map",
     "output_type": "error",
     "traceback": [
      "\u001b[1;31mjava.util.ArrayList cannot be cast to java.util.Map\u001b[0;0m"
     ]
    }
   ],
   "source": [
    ";; why doesn't this work????\n",
    "(macroexpand-1 '(match expr\n",
    "                    [:lit v] [v env]\n",
    "                    [:var idx] [(get env idx) env]\n",
    "                    [:set idx e] (let [[v env] (h e env)]\n",
    "                                    [v (assoc env idx v)])))"
   ]
  },
  {
   "cell_type": "markdown",
   "metadata": {},
   "source": [
    "### monadic do ... like Haskell's do operator"
   ]
  },
  {
   "cell_type": "code",
   "execution_count": 5,
   "metadata": {},
   "outputs": [
    {
     "data": {
      "text/plain": [
       "#'beaker_clojure_shell_340ae6bd-629c-4bb5-aa08-2f136ddd00f0/mdo"
      ]
     },
     "execution_count": 5,
     "metadata": {},
     "output_type": "execute_result"
    }
   ],
   "source": [
    "(defmacro mdo\n",
    "    [bindings]\n",
    "    (if (#{0 1} (count bindings))\n",
    "       (throw (RuntimeException. \"Invalid number of elements in mdo binding\"))\n",
    "       (let [[n v & r] bindings]\n",
    "           (if (empty? r)\n",
    "                v\n",
    "                [:bind v `(fn [~n] (mdo ~r))]))))"
   ]
  },
  {
   "cell_type": "code",
   "execution_count": 6,
   "metadata": {},
   "outputs": [
    {
     "ename": "java.util.ArrayList cannot be cast to java.util.Map",
     "evalue": "java.util.ArrayList cannot be cast to java.util.Map",
     "output_type": "error",
     "traceback": [
      "\u001b[1;31mjava.util.ArrayList cannot be cast to java.util.Map\u001b[0;0m"
     ]
    }
   ],
   "source": [
    "(macroexpand-1 '(mdo [\n",
    "                    a [:return 5]\n",
    "                    b [:return 3]\n",
    "                    c [:return (+ a b)]\n",
    "                    _ [:set 0 c]\n",
    "                    v [:get 2]\n",
    "                    _ [:return (+ v c)]\n",
    "]))"
   ]
  },
  {
   "cell_type": "markdown",
   "metadata": {},
   "source": [
    "## First example, ambient state"
   ]
  },
  {
   "cell_type": "code",
   "execution_count": 8,
   "metadata": {},
   "outputs": [
    {
     "data": {
      "text/plain": [
       "#'beaker_clojure_shell_340ae6bd-629c-4bb5-aa08-2f136ddd00f0/run-ambient"
      ]
     },
     "execution_count": 8,
     "metadata": {},
     "output_type": "execute_result"
    }
   ],
   "source": [
    "(defn run-ambient\n",
    "    ([m] (run-ambient m {}))\n",
    "    ([m env]\n",
    "        (match m\n",
    "            [:return v] [v env]\n",
    "            [:bind ma f] (let [[v env] (run-ambient ma env)]\n",
    "                            (run-ambient (f v) env))\n",
    "            [:set k v] [v (assoc env k v)]\n",
    "            [:get k] [(get env k) env]\n",
    "            [:update k f] (let [v (f (get env k))]\n",
    "                            [v (assoc env k v)]))))"
   ]
  },
  {
   "cell_type": "code",
   "execution_count": 10,
   "metadata": {},
   "outputs": [
    {
     "data": {
      "text/plain": [
       "[11, {2=3, 0=8}]"
      ]
     },
     "execution_count": 10,
     "metadata": {},
     "output_type": "execute_result"
    }
   ],
   "source": [
    "(run-ambient\n",
    "    (mdo [\n",
    "            a [:return 5]\n",
    "            b [:return 3]\n",
    "            c [:return (+ a b)]\n",
    "            _ [:set 0 c]\n",
    "            v [:get 2]\n",
    "            _ [:return (+ v c)]\n",
    "    ])\n",
    "    {2 3}\n",
    "    )"
   ]
  },
  {
   "cell_type": "markdown",
   "metadata": {},
   "source": [
    "### Expression counter"
   ]
  },
  {
   "cell_type": "code",
   "execution_count": 12,
   "metadata": {},
   "outputs": [
    {
     "data": {
      "text/plain": [
       "#'beaker_clojure_shell_340ae6bd-629c-4bb5-aa08-2f136ddd00f0/sequenceM"
      ]
     },
     "execution_count": 12,
     "metadata": {},
     "output_type": "execute_result"
    }
   ],
   "source": [
    "(defn sequenceM\n",
    "    \"Takes a list of monadic values ms, and returns\n",
    "    a single monadic value that wraps a list\"\n",
    "    [ms] ;; sequence of monadic values\n",
    "    (if (empty? ms)\n",
    "        [:return ()]\n",
    "        (mdo [\n",
    "            a (first ms)\n",
    "            r (sequenceM (rest ms))\n",
    "            _ [:return (cons a r)]\n",
    "            ]))\n",
    "    )"
   ]
  },
  {
   "cell_type": "code",
   "execution_count": 14,
   "metadata": {},
   "outputs": [
    {
     "data": {
      "text/plain": [
       "#'beaker_clojure_shell_340ae6bd-629c-4bb5-aa08-2f136ddd00f0/count-exprs"
      ]
     },
     "execution_count": 14,
     "metadata": {},
     "output_type": "execute_result"
    }
   ],
   "source": [
    "(defn count-exprs\n",
    "    [expr]\n",
    "    (let [m-inc (fn [k] [:update k (fnil inc 0)])]\n",
    "        (match expr\n",
    "            [:lit e] (mdo [_ (m-inc :lit)\n",
    "                           _ [:return 1]])\n",
    "            [:var _] (mdo [_ (m-inc :var)\n",
    "                           _ [:return 1]])\n",
    "            [:set _ e] (mdo [\n",
    "                              c (count-exprs e)\n",
    "                              _ (m-inc :set)\n",
    "                              _ [:return (inc c)]\n",
    "                            ])\n",
    "            [:bin _ e1 e2] (mdo [\n",
    "                                  c1 (count-exprs e1)\n",
    "                                  c2 (count-exprs e2)\n",
    "                                  _ (m-inc :bin)\n",
    "                                  _ [:return (+ c1 c2 1)]\n",
    "                                ])\n",
    "            [:while e-cond e-body] (mdo [\n",
    "                                          c1 (count-exprs e-cond)\n",
    "                                          c2 (count-exprs e-body)\n",
    "                                          _ (m-inc :while)\n",
    "                                          _ [:return (+ c1 c2 1)]\n",
    "                                        ])\n",
    "            [:do & exprs] (mdo [\n",
    "                                 counts (sequenceM (mapv count-exprs exprs))\n",
    "                                 _ (m-inc :do)\n",
    "                                 _ [:return (reduce + 1 counts)]\n",
    "            ]))))"
   ]
  },
  {
   "cell_type": "code",
   "execution_count": 16,
   "metadata": {},
   "outputs": [
    {
     "data": {
      "text/plain": [
       "[29, {:lit=8, :set=5, :var=6, :bin=7, :do=2, :while=1}]"
      ]
     },
     "execution_count": 16,
     "metadata": {},
     "output_type": "execute_result"
    }
   ],
   "source": [
    "(run-ambient \n",
    "    (count-exprs\n",
    "      [:do\n",
    "         [:set 0 [:lit 100]]\n",
    "         [:set 1 [:lit 1000]]\n",
    "         [:while\n",
    "            [:bin :not= [:lit 0] [:var 1]]\n",
    "            [:do\n",
    "                [:set 0 [:bin :add \n",
    "                              [:bin :add \n",
    "                                    [:bin :add \n",
    "                                          [:var 0] \n",
    "                                          [:lit 4]]\n",
    "                                    [:var 0]]\n",
    "                              [:lit 3]]]\n",
    "                [:set 0 [:bin :add\n",
    "                              [:bin :add [:var 0] [:lit 2]]\n",
    "                              [:lit 4]]]\n",
    "                [:set 1 [:bin :add [:lit -1] [:var 1]]]]]\n",
    "         [:var 0]]))"
   ]
  },
  {
   "cell_type": "markdown",
   "metadata": {},
   "source": [
    "## Second example: non-deterministic computation"
   ]
  },
  {
   "cell_type": "code",
   "execution_count": 18,
   "metadata": {},
   "outputs": [
    {
     "data": {
      "text/plain": [
       "#'beaker_clojure_shell_340ae6bd-629c-4bb5-aa08-2f136ddd00f0/run-nd"
      ]
     },
     "execution_count": 18,
     "metadata": {},
     "output_type": "execute_result"
    }
   ],
   "source": [
    "(defn run-nd\n",
    "    ([ma] (run-nd ma []))\n",
    "    ([ma s]\n",
    "        (match ma\n",
    "            [:return a] [a]\n",
    "            [:bind ma f] (mapcat (comp run-nd f) (run-nd ma))\n",
    "            [:multi ls] ls)))"
   ]
  },
  {
   "cell_type": "code",
   "execution_count": 21,
   "metadata": {},
   "outputs": [
    {
     "data": {
      "text/plain": [
       "[3, 4, 6, 8]"
      ]
     },
     "execution_count": 21,
     "metadata": {},
     "output_type": "execute_result"
    }
   ],
   "source": [
    "(run-nd (mdo [\n",
    "               a [:multi [1 2]]\n",
    "               b [:multi [3 4]]\n",
    "               _ [:return (* a b)]\n",
    "]))"
   ]
  },
  {
   "cell_type": "code",
   "execution_count": 22,
   "metadata": {},
   "outputs": [
    {
     "data": {
      "text/plain": [
       "#'beaker_clojure_shell_340ae6bd-629c-4bb5-aa08-2f136ddd00f0/filter-pos"
      ]
     },
     "execution_count": 22,
     "metadata": {},
     "output_type": "execute_result"
    }
   ],
   "source": [
    "(defn filter-pos\n",
    "   [a]\n",
    "   [:multi (if (pos? a) [a] [])])"
   ]
  },
  {
   "cell_type": "code",
   "execution_count": 23,
   "metadata": {},
   "outputs": [
    {
     "data": {
      "text/plain": [
       "[6, 8]"
      ]
     },
     "execution_count": 23,
     "metadata": {},
     "output_type": "execute_result"
    }
   ],
   "source": [
    "(run-nd (mdo [\n",
    "                a [:multi [-1 2]]\n",
    "                b [:multi [3 4]]\n",
    "                c [:return (* a b)]\n",
    "                d (filter-pos c)\n",
    "                _ [:return d]\n",
    "]))"
   ]
  },
  {
   "cell_type": "markdown",
   "metadata": {},
   "source": [
    "### Sovle quadratic equations"
   ]
  },
  {
   "cell_type": "code",
   "execution_count": 25,
   "metadata": {},
   "outputs": [
    {
     "data": {
      "text/plain": [
       "#'beaker_clojure_shell_340ae6bd-629c-4bb5-aa08-2f136ddd00f0/solve-2nd"
      ]
     },
     "execution_count": 25,
     "metadata": {},
     "output_type": "execute_result"
    }
   ],
   "source": [
    "(defn sqrt\n",
    "    [x]\n",
    "    (cond (neg? x) [:multi []]\n",
    "          (zero? x) [:return 0]\n",
    "          (pos? x) (mdo [\n",
    "                          sign [:multi [-1 1]]\n",
    "                          _    [:return (* sign (Math/sqrt x))]\n",
    "          ])))\n",
    "          \n",
    "(defn div\n",
    "    [a b]\n",
    "    (if (zero? b)\n",
    "        [:multi []]\n",
    "        [:return (/ a b)]))\n",
    "        \n",
    "(defn solve-2nd\n",
    "    [a b c]\n",
    "    (mdo [\n",
    "            d (sqrt (- (* b b) (* 4 a c)))\n",
    "            x (div (- d b) (* 2 a))\n",
    "    ]))"
   ]
  },
  {
   "cell_type": "code",
   "execution_count": 26,
   "metadata": {},
   "outputs": [
    {
     "data": {
      "text/plain": [
       "[-1]"
      ]
     },
     "execution_count": 26,
     "metadata": {},
     "output_type": "execute_result"
    }
   ],
   "source": [
    "(run-nd (solve-2nd 1 2 1))"
   ]
  },
  {
   "cell_type": "code",
   "execution_count": 27,
   "metadata": {},
   "outputs": [
    {
     "data": {
      "text/plain": [
       "[-2.618033988749895, -0.3819660112501051]"
      ]
     },
     "execution_count": 27,
     "metadata": {},
     "output_type": "execute_result"
    }
   ],
   "source": [
    "(run-nd (solve-2nd 1 3 1))"
   ]
  },
  {
   "cell_type": "code",
   "execution_count": 28,
   "metadata": {},
   "outputs": [
    {
     "data": {
      "text/plain": [
       "[]"
      ]
     },
     "execution_count": 28,
     "metadata": {},
     "output_type": "execute_result"
    }
   ],
   "source": [
    "(run-nd (solve-2nd -2 0 -1))"
   ]
  },
  {
   "cell_type": "code",
   "execution_count": 29,
   "metadata": {},
   "outputs": [
    {
     "data": {
      "text/plain": [
       "[1]"
      ]
     },
     "execution_count": 29,
     "metadata": {},
     "output_type": "execute_result"
    }
   ],
   "source": [
    "(run-nd (solve-2nd 1 -2 1))"
   ]
  },
  {
   "cell_type": "code",
   "execution_count": null,
   "metadata": {},
   "outputs": [],
   "source": []
  }
 ],
 "metadata": {
  "kernelspec": {
   "display_name": "Clojure",
   "language": "clojure",
   "name": "clojure"
  },
  "language_info": {
   "codemirror_mode": "Clojure",
   "file_extension": ".clj",
   "mimetype": "text/x-clojure",
   "name": "Clojure",
   "nbconverter_exporter": "",
   "version": "1.9.0"
  },
  "toc": {
   "base_numbering": 1,
   "nav_menu": {},
   "number_sections": false,
   "sideBar": false,
   "skip_h1_title": false,
   "title_cell": "Table of Contents",
   "title_sidebar": "Contents",
   "toc_cell": false,
   "toc_position": {
    "height": "47px",
    "left": "1343px",
    "top": "110px",
    "width": "159px"
   },
   "toc_section_display": false,
   "toc_window_display": true
  }
 },
 "nbformat": 4,
 "nbformat_minor": 2
}
