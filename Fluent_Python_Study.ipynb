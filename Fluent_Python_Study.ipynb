{
  "nbformat": 4,
  "nbformat_minor": 0,
  "metadata": {
    "colab": {
      "name": "Fluent Python Study",
      "provenance": [],
      "authorship_tag": "ABX9TyNOKGjQCX2WRCxCJ3QSnsER",
      "include_colab_link": true
    },
    "kernelspec": {
      "name": "python3",
      "display_name": "Python 3"
    },
    "language_info": {
      "name": "python"
    }
  },
  "cells": [
    {
      "cell_type": "markdown",
      "metadata": {
        "id": "view-in-github",
        "colab_type": "text"
      },
      "source": [
        "<a href=\"https://colab.research.google.com/github/rodmxw11/BeakerX-notebooks/blob/main/Fluent_Python_Study.ipynb\" target=\"_parent\"><img src=\"https://colab.research.google.com/assets/colab-badge.svg\" alt=\"Open In Colab\"/></a>"
      ]
    },
    {
      "cell_type": "code",
      "metadata": {
        "id": "5AaMVeaR9pil"
      },
      "source": [
        "import collections\n",
        "\n",
        "Card = collections.namedtuple('Card', ['rank','suit'])\n",
        "\n",
        "class FrenchDeck:\n",
        "  ranks = [str(n) for n in range(2,11)] + list('JQKA')\n",
        "  suits = 'spades diamonds clubs hearts'.split()\n",
        "\n",
        "  def __init__(self):\n",
        "    self._cards = [Card(rank, suit) for suit in self.suits\n",
        "                   for rank in self.ranks]\n",
        "\n",
        "  def __len__(self):\n",
        "    return len(self._cards)\n",
        "\n",
        "  def __getitem__(self, position):\n",
        "    return self._cards[position]\n",
        "     \n"
      ],
      "execution_count": null,
      "outputs": []
    },
    {
      "cell_type": "code",
      "metadata": {
        "colab": {
          "base_uri": "https://localhost:8080/"
        },
        "id": "qd2U4Z3QBTwF",
        "outputId": "c5db67bc-c5c9-4fec-e9d1-5c47a347abb0"
      },
      "source": [
        "beercard = Card('7','diamonds')\n",
        "beercard\n",
        "\n",
        "\n"
      ],
      "execution_count": null,
      "outputs": [
        {
          "output_type": "execute_result",
          "data": {
            "text/plain": [
              "Card(rank='7', suit='diamonds')"
            ]
          },
          "metadata": {},
          "execution_count": 42
        }
      ]
    },
    {
      "cell_type": "code",
      "metadata": {
        "colab": {
          "base_uri": "https://localhost:8080/"
        },
        "id": "OsGWESQ4BWsX",
        "outputId": "8553af56-fadb-4695-fd7a-f7071b3e1148"
      },
      "source": [
        "deck = FrenchDeck()\n",
        "len(deck)\n",
        "deck[0]\n",
        "\n"
      ],
      "execution_count": null,
      "outputs": [
        {
          "output_type": "execute_result",
          "data": {
            "text/plain": [
              "Card(rank='2', suit='spades')"
            ]
          },
          "metadata": {},
          "execution_count": 44
        }
      ]
    },
    {
      "cell_type": "code",
      "metadata": {
        "colab": {
          "base_uri": "https://localhost:8080/"
        },
        "id": "XXPWKB2VBZg4",
        "outputId": "50df69bf-b511-41b8-b15e-24a3fa751b90"
      },
      "source": [
        "from random import choice\n",
        "choice(deck)"
      ],
      "execution_count": null,
      "outputs": [
        {
          "output_type": "execute_result",
          "data": {
            "text/plain": [
              "Card(rank='8', suite='spades')"
            ]
          },
          "metadata": {},
          "execution_count": 36
        }
      ]
    },
    {
      "cell_type": "code",
      "metadata": {
        "colab": {
          "base_uri": "https://localhost:8080/"
        },
        "id": "7w15niw6Bppq",
        "outputId": "8b915664-34c8-4ab3-a24b-ec2ed2db579f"
      },
      "source": [
        "deck[:3]"
      ],
      "execution_count": null,
      "outputs": [
        {
          "output_type": "execute_result",
          "data": {
            "text/plain": [
              "[Card(rank='2', suite='spades'),\n",
              " Card(rank='3', suite='spades'),\n",
              " Card(rank='4', suite='spades')]"
            ]
          },
          "metadata": {},
          "execution_count": 37
        }
      ]
    },
    {
      "cell_type": "code",
      "metadata": {
        "colab": {
          "base_uri": "https://localhost:8080/"
        },
        "id": "9UG8zV-cBvfm",
        "outputId": "63c654f0-33ed-40c9-dfcb-a9fb29fc3305"
      },
      "source": [
        "deck[12::13]"
      ],
      "execution_count": null,
      "outputs": [
        {
          "output_type": "execute_result",
          "data": {
            "text/plain": [
              "[Card(rank='A', suite='spades'),\n",
              " Card(rank='A', suite='diamonds'),\n",
              " Card(rank='A', suite='clubs'),\n",
              " Card(rank='A', suite='hearts')]"
            ]
          },
          "metadata": {},
          "execution_count": 38
        }
      ]
    },
    {
      "cell_type": "code",
      "metadata": {
        "id": "IcfHlD6DDo1Q"
      },
      "source": [
        "for card in deck:\n",
        "  print(card)"
      ],
      "execution_count": null,
      "outputs": []
    },
    {
      "cell_type": "code",
      "metadata": {
        "id": "5WUCSmooELZx"
      },
      "source": [
        "for card in reversed(deck):\n",
        "  print(card)"
      ],
      "execution_count": null,
      "outputs": []
    },
    {
      "cell_type": "code",
      "metadata": {
        "colab": {
          "base_uri": "https://localhost:8080/"
        },
        "id": "9LQvzU-zEqZ-",
        "outputId": "d955ea72-b828-496d-8d89-169f9148b2ea"
      },
      "source": [
        "Card('W','spades') in deck"
      ],
      "execution_count": null,
      "outputs": [
        {
          "output_type": "execute_result",
          "data": {
            "text/plain": [
              "False"
            ]
          },
          "metadata": {},
          "execution_count": 48
        }
      ]
    },
    {
      "cell_type": "code",
      "metadata": {
        "id": "SdzXhJw7FRCv"
      },
      "source": [
        "suit_values = dict(clubs=0, diamonds=1, hearts=2, spades=3)\n",
        "\n",
        "def spades_high(card):\n",
        "  rank_value = FrenchDeck.ranks.index(card.rank)\n",
        "  return rank_value * len(suit_values) + suit_values[card.suit]\n",
        "\n",
        "for card in sorted(deck, key=spades_high):\n",
        "  print(card)"
      ],
      "execution_count": null,
      "outputs": []
    }
  ]
}