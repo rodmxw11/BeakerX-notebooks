{
 "cells": [
  {
   "cell_type": "markdown",
   "metadata": {},
   "source": [
    "# Clojure version of Python French Deck"
   ]
  },
  {
   "cell_type": "markdown",
   "metadata": {},
   "source": [
    "## Using Clojure Records   and Types\n",
    "Clojure Programming: [Records](https://learning.oreilly.com/library/view/clojure-programming/9781449310387/ch06.html#datatypes-records)\n",
    "\n",
    "* Video: [Defrecord Deftype in Clojure and ClojureScript - Michał Marczyk](https://www.youtube.com/watch?v=RYGnLf_W3tk)\n",
    "* Article: [Clojurescript: abstraction and data structure clarification - Part 1](https://blog.klipse.tech/clojurescript/2016/04/01/clojure-oop-part1.html)\n",
    "* Article: [In Clojure, records are wacky maps](https://blog.klipse.tech/clojurescript/2016/04/25/records-wacky-maps.html)\n",
    "* Article: [Clojurescript defprotocol's secret](https://blog.klipse.tech/clojurescript/2016/04/09/clojurescript-protocols-secret.html)\n",
    "* Article: [The power and danger of deftype in clojure and clojurescript](The power and danger of deftype in clojure and clojurescript)"
   ]
  },
  {
   "cell_type": "code",
   "execution_count": 24,
   "metadata": {},
   "outputs": [
    {
     "data": {
      "text/plain": [
       "class french_deck.Card"
      ]
     },
     "execution_count": 24,
     "metadata": {},
     "output_type": "execute_result"
    }
   ],
   "source": [
    "(in-ns 'french-deck)\n",
    "(defrecord Card [rank suit])"
   ]
  },
  {
   "cell_type": "code",
   "execution_count": null,
   "metadata": {},
   "outputs": [],
   "source": []
  },
  {
   "cell_type": "code",
   "execution_count": 26,
   "metadata": {},
   "outputs": [
    {
     "data": {
      "text/plain": [
       "french-deck"
      ]
     },
     "execution_count": 26,
     "metadata": {},
     "output_type": "execute_result"
    }
   ],
   "source": [
    "(in-ns 'french-deck)\n",
    "*ns*"
   ]
  },
  {
   "cell_type": "code",
   "execution_count": 38,
   "metadata": {},
   "outputs": [
    {
     "data": {
      "text/plain": [
       "-1"
      ]
     },
     "execution_count": 38,
     "metadata": {},
     "output_type": "execute_result"
    }
   ],
   "source": [
    "(compare :1 :2)"
   ]
  },
  {
   "cell_type": "code",
   "execution_count": 11,
   "metadata": {},
   "outputs": [
    {
     "data": {
      "text/plain": [
       "clojure.core$take$fn__5626@6e18552d"
      ]
     },
     "execution_count": 11,
     "metadata": {},
     "output_type": "execute_result"
    }
   ],
   "source": [
    "(take (concat (map (comp keyword str) (range 2 11)) [:J :Q :K :A]))"
   ]
  },
  {
   "cell_type": "code",
   "execution_count": 65,
   "metadata": {},
   "outputs": [
    {
     "data": {
      "text/plain": [
       "#'beaker_clojure_shell_eadeb16f-0f42-4408-be68-4f8a9446f8c9/fr-deck"
      ]
     },
     "execution_count": 65,
     "metadata": {},
     "output_type": "execute_result"
    }
   ],
   "source": [
    "(def rank-vec (concat (map (comp keyword str) (range 2 11)) [:J :Q :K :A]))\n",
    "(def suit-vec [:spades :diamonds :clubs :hearts])\n",
    "(def fr-deck (vec (for\n",
    "              [\n",
    "                 suit suit-vec\n",
    "                 rank rank-vec\n",
    "                 ]\n",
    "                 (Card. rank suit)\n",
    "              )))"
   ]
  },
  {
   "cell_type": "code",
   "execution_count": 53,
   "metadata": {},
   "outputs": [
    {
     "data": {
      "text/plain": [
       "true"
      ]
     },
     "execution_count": 53,
     "metadata": {},
     "output_type": "execute_result"
    }
   ],
   "source": [
    "(some (partial = (Card. :2 :spades)) fr-deck)"
   ]
  },
  {
   "cell_type": "code",
   "execution_count": 54,
   "metadata": {},
   "outputs": [
    {
     "data": {
      "application/vnd.jupyter.widget-view+json": {
       "model_id": "9797ccc6-5091-465c-a1c0-0c3724844abd",
       "version_major": 2,
       "version_minor": 0
      },
      "method": "display_data"
     },
     "metadata": {},
     "output_type": "display_data"
    }
   ],
   "source": [
    "(map fr-deck (range 3))"
   ]
  },
  {
   "cell_type": "code",
   "execution_count": 48,
   "metadata": {},
   "outputs": [
    {
     "data": {
      "application/vnd.jupyter.widget-view+json": {
       "model_id": "93a112fd-ffa5-499b-b1cf-47d49d49186c",
       "version_major": 2,
       "version_minor": 0
      },
      "method": "display_data"
     },
     "metadata": {},
     "output_type": "display_data"
    }
   ],
   "source": [
    "(map fr-deck (range 12 (count fr-deck) 13))"
   ]
  },
  {
   "cell_type": "code",
   "execution_count": 56,
   "metadata": {},
   "outputs": [
    {
     "data": {
      "text/plain": [
       "#'beaker_clojure_shell_eadeb16f-0f42-4408-be68-4f8a9446f8c9/spades-high"
      ]
     },
     "execution_count": 56,
     "metadata": {},
     "output_type": "execute_result"
    }
   ],
   "source": [
    "(def spades-high \n",
    "    (let [\n",
    "       suit-value #(.indexOf [:spades :hearts :diamonds :clubs] (:suit %))\n",
    "       rank-value #(.indexOf rank-vec (:rank %))\n",
    "       key-fn #(vector (suit-value %) (rank-value %))\n",
    "       ]\n",
    "    (sort-by key-fn fr-deck)\n",
    "    )\n",
    ")"
   ]
  },
  {
   "cell_type": "code",
   "execution_count": 57,
   "metadata": {},
   "outputs": [
    {
     "data": {
      "application/vnd.jupyter.widget-view+json": {
       "model_id": "a3b694ab-0ec9-4e09-bac2-2d9601ad341f",
       "version_major": 2,
       "version_minor": 0
      },
      "method": "display_data"
     },
     "metadata": {},
     "output_type": "display_data"
    }
   ],
   "source": [
    "spades-high"
   ]
  },
  {
   "cell_type": "markdown",
   "metadata": {},
   "source": [
    "## Using Clojure Types\n",
    "Clojure Programming: [Types](https://learning.oreilly.com/library/view/clojure-programming/9781449310387/ch06.html#datatypes-deftype)\n",
    "\n",
    "[The power and danger of deftype in clojure and clojurescript](https://blog.klipse.tech/clojurescript/2016/04/26/deftype-explained.html)"
   ]
  },
  {
   "cell_type": "code",
   "execution_count": 82,
   "metadata": {},
   "outputs": [
    {
     "data": {
      "text/plain": [
       "class beaker_clojure_shell_eadeb16f_0f42_4408_be68_4f8a9446f8c9.Cardt"
      ]
     },
     "execution_count": 82,
     "metadata": {},
     "output_type": "execute_result"
    }
   ],
   "source": [
    "( deftype Cardt [rank suit]\n",
    "  Object\n",
    "  (toString [this] (str (name (.rank this)) \":\" (name (.suit this))))\n",
    "  (equals [this other] (\n",
    "     and\n",
    "     (instance? Cardt other)\n",
    "     (= (.rank this) (.rank other)) \n",
    "     (= (.suit this) (.suit other))\n",
    "     ))\n",
    "  )"
   ]
  },
  {
   "cell_type": "code",
   "execution_count": 84,
   "metadata": {},
   "outputs": [
    {
     "data": {
      "text/plain": [
       "2:spades"
      ]
     },
     "execution_count": 84,
     "metadata": {},
     "output_type": "execute_result"
    }
   ],
   "source": [
    "(Cardt. :2 :spades)"
   ]
  },
  {
   "cell_type": "code",
   "execution_count": 83,
   "metadata": {},
   "outputs": [
    {
     "data": {
      "text/plain": [
       "#'beaker_clojure_shell_eadeb16f-0f42-4408-be68-4f8a9446f8c9/fr-deck-t"
      ]
     },
     "execution_count": 83,
     "metadata": {},
     "output_type": "execute_result"
    }
   ],
   "source": [
    "(def fr-deck-t (vec (for\n",
    "              [\n",
    "                 suit suit-vec\n",
    "                 rank rank-vec\n",
    "                 ]\n",
    "                 (Cardt. rank suit)\n",
    "              )))"
   ]
  },
  {
   "cell_type": "code",
   "execution_count": 85,
   "metadata": {},
   "outputs": [
    {
     "data": {
      "text/plain": [
       "[2:spades, 3:spades, 4:spades, 5:spades, 6:spades, 7:spades, 8:spades, 9:spades, 10:spades, J:spades, Q:spades, K:spades, A:spades, 2:diamonds, 3:diamonds, 4:diamonds, 5:diamonds, 6:diamonds, 7:diamonds, 8:diamonds, 9:diamonds, 10:diamonds, J:diamonds, Q:diamonds, K:diamonds, A:diamonds, 2:clubs, 3:clubs, 4:clubs, 5:clubs, 6:clubs, 7:clubs, 8:clubs, 9:clubs, 10:clubs, J:clubs, Q:clubs, K:clubs, A:clubs, 2:hearts, 3:hearts, 4:hearts, 5:hearts, 6:hearts, 7:hearts, 8:hearts, 9:hearts, 10:hearts, J:hearts, Q:hearts, K:hearts, A:hearts]"
      ]
     },
     "execution_count": 85,
     "metadata": {},
     "output_type": "execute_result"
    }
   ],
   "source": [
    "(map str fr-deck-t)"
   ]
  },
  {
   "cell_type": "code",
   "execution_count": 86,
   "metadata": {},
   "outputs": [
    {
     "data": {
      "text/plain": [
       "true"
      ]
     },
     "execution_count": 86,
     "metadata": {},
     "output_type": "execute_result"
    }
   ],
   "source": [
    "(some (partial = (Cardt. :2 :spades)) fr-deck-t)"
   ]
  },
  {
   "cell_type": "code",
   "execution_count": 78,
   "metadata": {},
   "outputs": [
    {
     "data": {
      "text/plain": [
       "true"
      ]
     },
     "execution_count": 78,
     "metadata": {},
     "output_type": "execute_result"
    }
   ],
   "source": [
    "(instance? Cardt (Cardt. :2 :spades))"
   ]
  },
  {
   "cell_type": "code",
   "execution_count": 88,
   "metadata": {},
   "outputs": [
    {
     "data": {
      "text/plain": [
       "#'beaker_clojure_shell_eadeb16f-0f42-4408-be68-4f8a9446f8c9/spades-high-t"
      ]
     },
     "execution_count": 88,
     "metadata": {},
     "output_type": "execute_result"
    }
   ],
   "source": [
    "(def spades-high-t \n",
    "    (let [\n",
    "       suit-value #(.indexOf [:spades :hearts :diamonds :clubs] (.suit %))\n",
    "       rank-value #(.indexOf rank-vec (.rank %))\n",
    "       key-fn #(vector (suit-value %) (rank-value %))\n",
    "       ]\n",
    "    (sort-by key-fn fr-deck-t)\n",
    "    )\n",
    ")"
   ]
  },
  {
   "cell_type": "code",
   "execution_count": 89,
   "metadata": {},
   "outputs": [
    {
     "data": {
      "text/plain": [
       "[2:spades, 3:spades, 4:spades, 5:spades, 6:spades, 7:spades, 8:spades, 9:spades, 10:spades, J:spades, Q:spades, K:spades, A:spades, 2:hearts, 3:hearts, 4:hearts, 5:hearts, 6:hearts, 7:hearts, 8:hearts, 9:hearts, 10:hearts, J:hearts, Q:hearts, K:hearts, A:hearts, 2:diamonds, 3:diamonds, 4:diamonds, 5:diamonds, 6:diamonds, 7:diamonds, 8:diamonds, 9:diamonds, 10:diamonds, J:diamonds, Q:diamonds, K:diamonds, A:diamonds, 2:clubs, 3:clubs, 4:clubs, 5:clubs, 6:clubs, 7:clubs, 8:clubs, 9:clubs, 10:clubs, J:clubs, Q:clubs, K:clubs, A:clubs]"
      ]
     },
     "execution_count": 89,
     "metadata": {},
     "output_type": "execute_result"
    }
   ],
   "source": [
    "(map str spades-high-t)"
   ]
  },
  {
   "cell_type": "markdown",
   "metadata": {},
   "source": [
    "### Basis \n",
    "\n",
    "https://stackoverflow.com/questions/15123287/in-clojure-how-do-i-get-the-basis-for-a-record-with-only-an-instance-of-the-reco\n"
   ]
  },
  {
   "cell_type": "code",
   "execution_count": 97,
   "metadata": {
    "scrolled": true
   },
   "outputs": [
    {
     "data": {
      "application/vnd.jupyter.widget-view+json": {
       "model_id": "1765321f-1327-46df-9384-8697d75de12b",
       "version_major": 2,
       "version_minor": 0
      },
      "method": "display_data"
     },
     "metadata": {},
     "output_type": "display_data"
    }
   ],
   "source": [
    "(Cardt/getBasis)"
   ]
  },
  {
   "cell_type": "code",
   "execution_count": 100,
   "metadata": {},
   "outputs": [
    {
     "data": {
      "application/vnd.jupyter.widget-view+json": {
       "model_id": "0a3bf7b3-5a60-4856-afa9-e490d233c291",
       "version_major": 2,
       "version_minor": 0
      },
      "method": "display_data"
     },
     "metadata": {},
     "output_type": "display_data"
    }
   ],
   "source": [
    "(Card/getBasis)"
   ]
  },
  {
   "cell_type": "code",
   "execution_count": 103,
   "metadata": {},
   "outputs": [
    {
     "data": {
      "application/vnd.jupyter.widget-view+json": {
       "model_id": "e0f88d0b-1555-4f0a-a588-def017c34d0f",
       "version_major": 2,
       "version_minor": 0
      },
      "method": "display_data"
     },
     "metadata": {},
     "output_type": "display_data"
    }
   ],
   "source": [
    "(. (. (type (Card. :2 :spades)) getMethod \"getBasis\" nil) invoke nil nil)"
   ]
  },
  {
   "cell_type": "code",
   "execution_count": 104,
   "metadata": {},
   "outputs": [
    {
     "data": {
      "application/vnd.jupyter.widget-view+json": {
       "model_id": "ea7499a1-e08d-4795-8320-ffb1047989ca",
       "version_major": 2,
       "version_minor": 0
      },
      "method": "display_data"
     },
     "metadata": {},
     "output_type": "display_data"
    }
   ],
   "source": [
    "(. (. (type (Cardt. :2 :spades)) getMethod \"getBasis\" nil) invoke nil nil)"
   ]
  },
  {
   "cell_type": "code",
   "execution_count": 106,
   "metadata": {},
   "outputs": [
    {
     "data": {
      "text/plain": [
       "public static clojure.lang.IPersistentVector beaker_clojure_shell_eadeb16f_0f42_4408_be68_4f8a9446f8c9.Cardt.getBasis()"
      ]
     },
     "execution_count": 106,
     "metadata": {},
     "output_type": "execute_result"
    }
   ],
   "source": [
    "(. (type (Cardt. :2 :spades)) getMethod \"getBasis\" nil)"
   ]
  },
  {
   "cell_type": "code",
   "execution_count": 107,
   "metadata": {},
   "outputs": [
    {
     "data": {
      "application/vnd.jupyter.widget-view+json": {
       "model_id": "6ff07e1b-e226-488e-a737-56f431f41cf7",
       "version_major": 2,
       "version_minor": 0
      },
      "method": "display_data"
     },
     "metadata": {},
     "output_type": "display_data"
    }
   ],
   "source": [
    "(.. (type (Cardt. :2 :spades)) (getMethod \"getBasis\" nil) (invoke nil nil))"
   ]
  },
  {
   "cell_type": "code",
   "execution_count": null,
   "metadata": {},
   "outputs": [],
   "source": []
  }
 ],
 "metadata": {
  "kernelspec": {
   "display_name": "Clojure",
   "language": "clojure",
   "name": "clojure"
  },
  "language_info": {
   "codemirror_mode": "Clojure",
   "file_extension": ".clj",
   "mimetype": "text/x-clojure",
   "name": "Clojure",
   "nbconverter_exporter": "",
   "version": "1.9.0"
  },
  "toc": {
   "base_numbering": 1,
   "nav_menu": {},
   "number_sections": false,
   "sideBar": false,
   "skip_h1_title": false,
   "title_cell": "Table of Contents",
   "title_sidebar": "Contents",
   "toc_cell": false,
   "toc_position": {},
   "toc_section_display": false,
   "toc_window_display": false
  }
 },
 "nbformat": 4,
 "nbformat_minor": 2
}
