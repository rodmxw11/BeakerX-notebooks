{
 "cells": [
  {
   "cell_type": "markdown",
   "metadata": {},
   "source": [
    "# algo.monads\n",
    "\n",
    "* Github: [algo.monads](https://github.com/clojure/algo.monads)\n",
    "\n",
    "* Konrad Hinsen's tutorial:\t\t\n",
    "  * [Monad tutorial part 1](https://github.com/khinsen/monads-in-clojure/blob/master/PART1.md)\t\t\n",
    "  * [Monad tutorial part 2](https://github.com/khinsen/monads-in-clojure/blob/master/PART2.md)\t\t\n",
    "  * [Monad tutorial part 3](https://github.com/khinsen/monads-in-clojure/blob/master/PART3.md)\t\t\n",
    "  * [Monad tutorial part 4](https://github.com/khinsen/monads-in-clojure/blob/master/PART4.md)\t\n"
   ]
  },
  {
   "cell_type": "code",
   "execution_count": 12,
   "metadata": {},
   "outputs": [
    {
     "data": {
      "application/vnd.jupyter.widget-view+json": {
       "model_id": "",
       "version_major": 2,
       "version_minor": 0
      },
      "method": "display_data"
     },
     "metadata": {},
     "output_type": "display_data"
    }
   ],
   "source": [
    " %classpath add mvn org.clojure algo.monads 0.1.6"
   ]
  },
  {
   "cell_type": "code",
   "execution_count": 18,
   "metadata": {},
   "outputs": [
    {
     "data": {
      "text/plain": [
       "null"
      ]
     },
     "execution_count": 18,
     "metadata": {},
     "output_type": "execute_result"
    }
   ],
   "source": [
    "(use 'clojure.algo.monads)"
   ]
  },
  {
   "cell_type": "markdown",
   "metadata": {},
   "source": [
    "## Tutorial Part 1"
   ]
  },
  {
   "cell_type": "code",
   "execution_count": 5,
   "metadata": {},
   "outputs": [
    {
     "data": {
      "text/plain": [
       "2"
      ]
     },
     "execution_count": 5,
     "metadata": {},
     "output_type": "execute_result"
    }
   ],
   "source": [
    "(let [a  1\n",
    "      b  (inc a)]\n",
    "  (* a b))"
   ]
  },
  {
   "cell_type": "code",
   "execution_count": 6,
   "metadata": {},
   "outputs": [
    {
     "data": {
      "text/plain": [
       "2"
      ]
     },
     "execution_count": 6,
     "metadata": {},
     "output_type": "execute_result"
    }
   ],
   "source": [
    "( (fn [a] ( (fn [b] (* a b)) (inc a) ) ) 1 )"
   ]
  },
  {
   "cell_type": "code",
   "execution_count": 7,
   "metadata": {},
   "outputs": [
    {
     "data": {
      "text/plain": [
       "#'beaker_clojure_shell_94900fc5-98fd-42cb-a473-de930f3da3ec/m-bind"
      ]
     },
     "execution_count": 7,
     "metadata": {},
     "output_type": "execute_result"
    }
   ],
   "source": [
    "(defn m-bind [value function]\n",
    "  (function value))"
   ]
  },
  {
   "cell_type": "code",
   "execution_count": 8,
   "metadata": {},
   "outputs": [
    {
     "data": {
      "text/plain": [
       "2"
      ]
     },
     "execution_count": 8,
     "metadata": {},
     "output_type": "execute_result"
    }
   ],
   "source": [
    "(m-bind 1        (fn [a]\n",
    "(m-bind (inc a)  (fn [b]\n",
    "        (* a b)))))"
   ]
  },
  {
   "cell_type": "code",
   "execution_count": 19,
   "metadata": {},
   "outputs": [
    {
     "data": {
      "text/plain": [
       "2"
      ]
     },
     "execution_count": 19,
     "metadata": {},
     "output_type": "execute_result"
    }
   ],
   "source": [
    "(domonad identity-m\n",
    "  [a  1\n",
    "   b  (inc a)]\n",
    "  (* a b))"
   ]
  },
  {
   "cell_type": "code",
   "execution_count": 20,
   "metadata": {},
   "outputs": [
    {
     "data": {
      "text/plain": [
       "#'beaker_clojure_shell_94900fc5-98fd-42cb-a473-de930f3da3ec/f"
      ]
     },
     "execution_count": 20,
     "metadata": {},
     "output_type": "execute_result"
    }
   ],
   "source": [
    "(defn f [x]\n",
    "  (domonad maybe-m\n",
    "    [a  x\n",
    "     b  (inc a)]\n",
    "    (* a b)))"
   ]
  },
  {
   "cell_type": "code",
   "execution_count": 22,
   "metadata": {},
   "outputs": [
    {
     "data": {
      "text/plain": [
       "null"
      ]
     },
     "execution_count": 22,
     "metadata": {},
     "output_type": "execute_result"
    }
   ],
   "source": [
    "(f nil)"
   ]
  },
  {
   "cell_type": "code",
   "execution_count": 24,
   "metadata": {},
   "outputs": [
    {
     "data": {
      "text/plain": [
       "beaker_clojure_shell_94900fc5-98fd-42cb-a473-de930f3da3ec"
      ]
     },
     "execution_count": 24,
     "metadata": {},
     "output_type": "execute_result"
    }
   ],
   "source": [
    "*ns*"
   ]
  },
  {
   "cell_type": "code",
   "execution_count": 25,
   "metadata": {},
   "outputs": [
    {
     "data": {
      "text/plain": [
       "#'beaker_clojure_shell_94900fc5-98fd-42cb-a473-de930f3da3ec/m-bind-1"
      ]
     },
     "execution_count": 25,
     "metadata": {},
     "output_type": "execute_result"
    }
   ],
   "source": [
    "(defn m-bind-1 [value function]\n",
    "  (if (nil? value)\n",
    "      nil\n",
    "      (function value)))"
   ]
  },
  {
   "cell_type": "markdown",
   "metadata": {},
   "source": [
    "## Tutorial Part 2"
   ]
  },
  {
   "cell_type": "code",
   "execution_count": 26,
   "metadata": {},
   "outputs": [
    {
     "data": {
      "text/plain": [
       "[0, 0, 2, 0, 3, 6, 0, 4, 8, 12]"
      ]
     },
     "execution_count": 26,
     "metadata": {},
     "output_type": "execute_result"
    }
   ],
   "source": [
    "(for [a (range 5)\n",
    "      b (range a)]\n",
    "  (* a b))"
   ]
  },
  {
   "cell_type": "code",
   "execution_count": 27,
   "metadata": {},
   "outputs": [
    {
     "data": {
      "text/plain": [
       "[0, 0, 2, 0, 3, 6, 0, 4, 8, 12]"
      ]
     },
     "execution_count": 27,
     "metadata": {},
     "output_type": "execute_result"
    }
   ],
   "source": [
    "(domonad sequence-m\n",
    "  [a (range 5)\n",
    "   b (range a)]\n",
    "  (* a b))"
   ]
  },
  {
   "cell_type": "code",
   "execution_count": 28,
   "metadata": {},
   "outputs": [
    {
     "data": {
      "text/plain": [
       "#'beaker_clojure_shell_94900fc5-98fd-42cb-a473-de930f3da3ec/m-bind-first-try"
      ]
     },
     "execution_count": 28,
     "metadata": {},
     "output_type": "execute_result"
    }
   ],
   "source": [
    "(defn m-bind-first-try [sequence function]\n",
    "  (map function sequence))"
   ]
  },
  {
   "cell_type": "code",
   "execution_count": 29,
   "metadata": {},
   "outputs": [
    {
     "data": {
      "text/plain": [
       "[[], [0], [0, 2], [0, 3, 6], [0, 4, 8, 12]]"
      ]
     },
     "execution_count": 29,
     "metadata": {},
     "output_type": "execute_result"
    }
   ],
   "source": [
    "(m-bind-first-try (range 5)  (fn [a]\n",
    "(m-bind-first-try (range a)  (fn [b]\n",
    "(* a b)))))"
   ]
  },
  {
   "cell_type": "code",
   "execution_count": 30,
   "metadata": {},
   "outputs": [
    {
     "ename": "Object",
     "evalue": " class clojure.lang.LazySeq, value cannot be displayed due to following error",
     "output_type": "error",
     "traceback": [
      "\u001b[1;31mObject: class clojure.lang.LazySeq, value cannot be displayed due to following error: Don't know how to create ISeq from: java.lang.Long\u001b[0;0m"
     ]
    }
   ],
   "source": [
    "(defn m-bind-second-try [sequence function]\n",
    "  (apply concat (map function sequence)))\n",
    "\n",
    "(m-bind-second-try (range 5)  (fn [a]\n",
    "(m-bind-second-try (range a)  (fn [b]\n",
    "(* a b)))))"
   ]
  },
  {
   "cell_type": "code",
   "execution_count": 31,
   "metadata": {},
   "outputs": [
    {
     "data": {
      "text/plain": [
       "[0, 0, 2, 0, 3, 6, 0, 4, 8, 12]"
      ]
     },
     "execution_count": 31,
     "metadata": {},
     "output_type": "execute_result"
    }
   ],
   "source": [
    "(m-bind-second-try (range 5)  (fn [a]\n",
    "(m-bind-second-try (range a)  (fn [b]\n",
    "(list (* a b))))))"
   ]
  },
  {
   "cell_type": "code",
   "execution_count": 32,
   "metadata": {},
   "outputs": [
    {
     "data": {
      "text/plain": [
       "[0, 0, 2, 0, 3, 6, 0, 4, 8, 12]"
      ]
     },
     "execution_count": 32,
     "metadata": {},
     "output_type": "execute_result"
    }
   ],
   "source": [
    "(defn m-bind-third-try [sequence function]\n",
    "  (mapcat function sequence))\n",
    "  \n",
    "  (m-bind-third-try (range 5)  (fn [a]\n",
    "(m-bind-third-try (range a)  (fn [b]\n",
    "(list (* a b))))))"
   ]
  },
  {
   "cell_type": "code",
   "execution_count": 33,
   "metadata": {},
   "outputs": [
    {
     "data": {
      "text/plain": [
       "#'beaker_clojure_shell_94900fc5-98fd-42cb-a473-de930f3da3ec/m-result-2"
      ]
     },
     "execution_count": 33,
     "metadata": {},
     "output_type": "execute_result"
    }
   ],
   "source": [
    "(defn m-bind-2 [sequence function]\n",
    "  (mapcat function sequence))\n",
    "\n",
    "(defn m-result-2 [value]\n",
    "  (list value))"
   ]
  },
  {
   "cell_type": "code",
   "execution_count": 34,
   "metadata": {},
   "outputs": [
    {
     "data": {
      "text/plain": [
       "#'beaker_clojure_shell_94900fc5-98fd-42cb-a473-de930f3da3ec/nil-respecting-addition"
      ]
     },
     "execution_count": 34,
     "metadata": {},
     "output_type": "execute_result"
    }
   ],
   "source": [
    "(def nil-respecting-addition\n",
    "  (with-monad maybe-m\n",
    "    (m-lift 2 +)))"
   ]
  },
  {
   "cell_type": "code",
   "execution_count": 35,
   "metadata": {},
   "outputs": [
    {
     "data": {
      "text/plain": [
       "#'beaker_clojure_shell_94900fc5-98fd-42cb-a473-de930f3da3ec/nil-respecting-addition"
      ]
     },
     "execution_count": 35,
     "metadata": {},
     "output_type": "execute_result"
    }
   ],
   "source": [
    "(defn nil-respecting-addition\n",
    "  [x y]\n",
    "  (domonad maybe-m\n",
    "    [a x\n",
    "     b y]\n",
    "    (+ a b)))"
   ]
  },
  {
   "cell_type": "code",
   "execution_count": 36,
   "metadata": {},
   "outputs": [
    {
     "data": {
      "text/plain": [
       "#'beaker_clojure_shell_94900fc5-98fd-42cb-a473-de930f3da3ec/mystery"
      ]
     },
     "execution_count": 36,
     "metadata": {},
     "output_type": "execute_result"
    }
   ],
   "source": [
    "(with-monad sequence-m\n",
    "  (defn mystery\n",
    "    [f xs]\n",
    "    ( (m-lift 1 f) xs )))"
   ]
  },
  {
   "cell_type": "code",
   "execution_count": 38,
   "metadata": {},
   "outputs": [
    {
     "data": {
      "text/plain": [
       "[0, 2, 4]"
      ]
     },
     "execution_count": 38,
     "metadata": {},
     "output_type": "execute_result"
    }
   ],
   "source": [
    "(mystery #(* 2 %) (range 3))"
   ]
  },
  {
   "cell_type": "code",
   "execution_count": 39,
   "metadata": {},
   "outputs": [
    {
     "data": {
      "text/plain": [
       "#'beaker_clojure_shell_94900fc5-98fd-42cb-a473-de930f3da3ec/ntuples"
      ]
     },
     "execution_count": 39,
     "metadata": {},
     "output_type": "execute_result"
    }
   ],
   "source": [
    "(with-monad sequence-m\n",
    "   (defn ntuples [n xs]\n",
    "      (m-seq (repeat n xs))))"
   ]
  },
  {
   "cell_type": "code",
   "execution_count": 40,
   "metadata": {},
   "outputs": [
    {
     "data": {
      "text/plain": [
       "[[0, 0, 0], [0, 0, 1], [0, 0, 2], [0, 1, 0], [0, 1, 1], [0, 1, 2], [0, 2, 0], [0, 2, 1], [0, 2, 2], [1, 0, 0], [1, 0, 1], [1, 0, 2], [1, 1, 0], [1, 1, 1], [1, 1, 2], [1, 2, 0], [1, 2, 1], [1, 2, 2], [2, 0, 0], [2, 0, 1], [2, 0, 2], [2, 1, 0], [2, 1, 1], [2, 1, 2], [2, 2, 0], [2, 2, 1], [2, 2, 2]]"
      ]
     },
     "execution_count": 40,
     "metadata": {},
     "output_type": "execute_result"
    }
   ],
   "source": [
    "(ntuples 3 (range 3))"
   ]
  },
  {
   "cell_type": "code",
   "execution_count": 43,
   "metadata": {},
   "outputs": [
    {
     "data": {
      "text/plain": [
       "[[a, a, a, a], [a, a, a, b], [a, a, b, a], [a, a, b, b], [a, b, a, a], [a, b, a, b], [a, b, b, a], [a, b, b, b], [b, a, a, a], [b, a, a, b], [b, a, b, a], [b, a, b, b], [b, b, a, a], [b, b, a, b], [b, b, b, a], [b, b, b, b]]"
      ]
     },
     "execution_count": 43,
     "metadata": {},
     "output_type": "execute_result"
    }
   ],
   "source": [
    "(ntuples 4 [\"a\" \"b\"])"
   ]
  },
  {
   "cell_type": "code",
   "execution_count": 44,
   "metadata": {},
   "outputs": [
    {
     "data": {
      "text/plain": [
       "[[a, b], [a, b], [a, b]]"
      ]
     },
     "execution_count": 44,
     "metadata": {},
     "output_type": "execute_result"
    }
   ],
   "source": [
    "(repeat 3 [\"a\" \"b\"])"
   ]
  },
  {
   "cell_type": "code",
   "execution_count": 45,
   "metadata": {},
   "outputs": [
    {
     "data": {
      "text/plain": [
       "[[a, a, a, a], [a, a, a, b], [a, a, b, a], [a, a, b, b], [a, b, a, a], [a, b, a, b], [a, b, b, a], [a, b, b, b], [b, a, a, a], [b, a, a, b], [b, a, b, a], [b, a, b, b], [b, b, a, a], [b, b, a, b], [b, b, b, a], [b, b, b, b]]"
      ]
     },
     "execution_count": 45,
     "metadata": {},
     "output_type": "execute_result"
    }
   ],
   "source": [
    "(let [s [\"a\" \"b\"]]\n",
    "   (for [w s x s y s z s]\n",
    "      (list w x y z))\n",
    ")"
   ]
  },
  {
   "cell_type": "code",
   "execution_count": 46,
   "metadata": {},
   "outputs": [
    {
     "data": {
      "text/plain": [
       "[clojure.lang.PersistentVector]"
      ]
     },
     "execution_count": 46,
     "metadata": {},
     "output_type": "execute_result"
    }
   ],
   "source": [
    "(with-monad sequence-m\n",
    "  (defn n-th-generation\n",
    "    [n cls]\n",
    "    ( (m-chain (repeat n parents)) cls )))\n",
    "\n",
    "(n-th-generation 0 (class []))"
   ]
  },
  {
   "cell_type": "code",
   "execution_count": 48,
   "metadata": {},
   "outputs": [
    {
     "data": {
      "text/plain": [
       "[clojure.lang.IKVReduce, clojure.lang.IEditableCollection, clojure.lang.APersistentVector, clojure.lang.IObj, clojure.lang.IReduce]"
      ]
     },
     "execution_count": 48,
     "metadata": {},
     "output_type": "execute_result"
    }
   ],
   "source": [
    "(n-th-generation 1 (class []))"
   ]
  },
  {
   "cell_type": "code",
   "execution_count": 49,
   "metadata": {},
   "outputs": [
    {
     "data": {
      "text/plain": [
       "[java.io.Serializable, java.util.List, clojure.lang.AFn, clojure.lang.IPersistentVector, java.util.RandomAccess, java.lang.Comparable, java.lang.Iterable, clojure.lang.IHashEq, clojure.lang.IMeta, clojure.lang.IReduceInit]"
      ]
     },
     "execution_count": 49,
     "metadata": {},
     "output_type": "execute_result"
    }
   ],
   "source": [
    "(n-th-generation 2 (class []))"
   ]
  },
  {
   "cell_type": "code",
   "execution_count": 51,
   "metadata": {},
   "outputs": [
    {
     "data": {
      "text/plain": [
       "[java.util.Collection, clojure.lang.IFn, java.lang.Object, clojure.lang.Indexed, clojure.lang.Associative, clojure.lang.IPersistentStack, clojure.lang.Reversible, clojure.lang.Sequential]"
      ]
     },
     "execution_count": 51,
     "metadata": {},
     "output_type": "execute_result"
    }
   ],
   "source": [
    "(n-th-generation 3 (class []))"
   ]
  },
  {
   "cell_type": "markdown",
   "metadata": {},
   "source": [
    "## Tutorial Part 3"
   ]
  },
  {
   "cell_type": "code",
   "execution_count": null,
   "metadata": {},
   "outputs": [],
   "source": []
  }
 ],
 "metadata": {
  "kernelspec": {
   "display_name": "Clojure",
   "language": "clojure",
   "name": "clojure"
  },
  "language_info": {
   "codemirror_mode": "Clojure",
   "file_extension": ".clj",
   "mimetype": "text/x-clojure",
   "name": "Clojure",
   "nbconverter_exporter": "",
   "version": "1.9.0"
  },
  "toc": {
   "base_numbering": 1,
   "nav_menu": {},
   "number_sections": false,
   "sideBar": false,
   "skip_h1_title": false,
   "title_cell": "Table of Contents",
   "title_sidebar": "Contents",
   "toc_cell": false,
   "toc_position": {},
   "toc_section_display": false,
   "toc_window_display": false
  }
 },
 "nbformat": 4,
 "nbformat_minor": 2
}
